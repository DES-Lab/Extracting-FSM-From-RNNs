{
 "metadata": {
  "language_info": {
   "codemirror_mode": {
    "name": "ipython",
    "version": 3
   },
   "file_extension": ".py",
   "mimetype": "text/x-python",
   "name": "python",
   "nbconvert_exporter": "python",
   "pygments_lexer": "ipython3",
   "version": "3.6.8"
  },
  "orig_nbformat": 2,
  "kernelspec": {
   "name": "python368jvsc74a57bd0755c164b9e85a47f8c9c3afe9b654d9a176fc92900c920b823de3b116f018144",
   "display_name": "Python 3.6.8 64-bit ('venv': venv)",
   "language": "python"
  }
 },
 "nbformat": 4,
 "nbformat_minor": 2,
 "cells": [
  {
   "cell_type": "code",
   "execution_count": 17,
   "metadata": {},
   "outputs": [],
   "source": [
    "import time\n",
    "\n",
    "from aalpy.oracles import TransitionFocusOracle, StatePrefixEqOracle\n",
    "\n",
    "from Comparison_with_White_Box import Weiss_to_AALpy_DFA_format, train_or_load_rnn\n",
    "from RNN_SULs import RNN_BinarySUL_for_Weiss_Framework\n",
    "from Refinement_based_extraction.Extraction import extract\n",
    "from Refinement_based_extraction.GRU import GRUNetwork\n"
   ]
  },
  {
   "cell_type": "code",
   "execution_count": 7,
   "metadata": {},
   "outputs": [
    {
     "output_type": "stream",
     "name": "stdout",
     "text": [
      "classification loss on last batch was: 0.00018254815475327393\nsaving to RNN_Models/WeissComparisonModels/bp_ex_GRU_layers_2_dim_50.rnn\n"
     ]
    }
   ],
   "source": [
    "# Train a BP RNN parentheses\n",
    "rnn, alphabet, train_set = train_or_load_rnn('bp_ex', num_layers=2, hidden_dim=50,\n",
    "                                             rnn_class=GRUNetwork, train=True)\n"
   ]
  },
  {
   "cell_type": "code",
   "execution_count": 8,
   "metadata": {},
   "outputs": [],
   "source": [
    "# initial examples for refinement-based approach\n",
    "all_words = sorted(list(train_set.keys()), key=lambda x: len(x))\n",
    "pos = next((w for w in all_words if rnn.classify_word(w) is True), None)\n",
    "neg = next((w for w in all_words if rnn.classify_word(w) is False), None)\n",
    "starting_examples = [w for w in [pos, neg] if None is not w]"
   ]
  },
  {
   "cell_type": "code",
   "execution_count": 9,
   "metadata": {},
   "outputs": [
    {
     "output_type": "stream",
     "name": "stdout",
     "text": [
      "provided counterexamples are: ['', '(']\n",
      "obs table refinement took 0.005\n",
      "guided starting equivalence query for DFA of size 2\n",
      "split wasn't perfect: gotta start over\n",
      "returning counterexample of length 2:\t\t)), this counterexample is rejected by the given RNN.\n",
      "equivalence checking took: 0.41981890000010935\n",
      "obs table refinement took 0.035\n",
      "guided starting equivalence query for DFA of size 3\n",
      "lstar successful: unrolling seems equivalent to proposed automaton\n",
      "equivalence checking took: 0.7214922999999089\n",
      "overall guided extraction time took: 1.1856159999999818\n",
      "generated counterexamples were: (format: (counterexample, counterexample generation time))\n",
      "('))', 0.41981890000010935)\n"
     ]
    }
   ],
   "source": [
    "# Extract Automaton Using White-Box eq. query\n",
    "rnn.renew()\n",
    "\n",
    "# Perform white-box refinement-based extraction\n",
    "start_white_box = time.time()\n",
    "dfa_weiss = extract(rnn, time_limit=1000, initial_split_depth=10, starting_examples=starting_examples)\n",
    "time_white_box = time.time() - start_white_box\n",
    "# Make sure that internal states are back to initial\n",
    "rnn.renew()"
   ]
  },
  {
   "cell_type": "code",
   "execution_count": 10,
   "metadata": {},
   "outputs": [],
   "source": [
    "# Translate the model obtained from refinement-based approach to AALpy standard\n",
    "white_box_hyp = Weiss_to_AALpy_DFA_format(dfa_weiss)\n",
    "sul = RNN_BinarySUL_for_Weiss_Framework(rnn)"
   ]
  },
  {
   "cell_type": "code",
   "execution_count": 11,
   "metadata": {},
   "outputs": [],
   "source": [
    "# Define the eq. oracle\n",
    "eq_oracle = TransitionFocusOracle(alphabet, sul, num_random_walks=1000, walk_len=20)"
   ]
  },
  {
   "cell_type": "code",
   "execution_count": 14,
   "metadata": {},
   "outputs": [
    {
     "output_type": "stream",
     "name": "stdout",
     "text": [
      "Time \t Counterexample\n",
      "0.03 \t (gx())\n",
      "0.1 \t ((()()()))\n",
      "0.01 \t l(b)o(())\n",
      "0.14 \t ((()z())(()))\n",
      "0.02 \t q(()h)\n",
      "0.01 \t (f())\n",
      "0.01 \t (((())()))\n",
      "0.13 \t (d())\n",
      "0.0 \t (()((ku))()())\n",
      "0.01 \t (y())\n",
      "0.04 \t (g(()))\n",
      "0.06 \t (())\n",
      "0.04 \t (()f())\n",
      "0.06 \t k((())uo)\n",
      "0.03 \t ()u(()w)\n",
      "0.0 \t w()(((q)a)y)\n",
      "0.02 \t ()()(())\n"
     ]
    }
   ],
   "source": [
    "# Try to falsify the model extracted by refinement-based approach.\n",
    "# If counterexamples are found there is a high probability that they are adversarial inputs.\n",
    "cex_set = set()\n",
    "print('Time \\t Counterexample')\n",
    "for _ in range(20):\n",
    "    start_time = time.time()\n",
    "    cex = eq_oracle.find_cex(white_box_hyp)\n",
    "    if tuple(cex) in cex_set:\n",
    "        continue\n",
    "    cex_set.add(tuple(cex))\n",
    "    end_time = time.time() - start_time\n",
    "    print(round(end_time, 2),'\\t', \"\".join(cex))"
   ]
  }
 ]
}