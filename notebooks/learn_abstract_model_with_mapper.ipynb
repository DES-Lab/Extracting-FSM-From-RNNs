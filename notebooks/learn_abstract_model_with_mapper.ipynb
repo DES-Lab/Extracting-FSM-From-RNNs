{
 "metadata": {
  "language_info": {
   "codemirror_mode": {
    "name": "ipython",
    "version": 3
   },
   "file_extension": ".py",
   "mimetype": "text/x-python",
   "name": "python",
   "nbconvert_exporter": "python",
   "pygments_lexer": "ipython3",
   "version": "3.6.8"
  },
  "orig_nbformat": 2,
  "kernelspec": {
   "name": "python368jvsc74a57bd02ab5e152fcf54322d6bbdd14ee60841ff95c5546cc9d5585d8c09cbd67c517cd",
   "display_name": "Python 3.6.8 64-bit ('venv')"
  }
 },
 "nbformat": 4,
 "nbformat_minor": 2,
 "cells": [
  {
   "cell_type": "code",
   "execution_count": 1,
   "metadata": {},
   "outputs": [],
   "source": [
    "# Imports\n",
    "from aalpy.learning_algs import run_Lstar\n",
    "from aalpy.oracles import StatePrefixEqOracle\n",
    "\n",
    "from DataProcessing import generate_concrete_data_MQTT, split_train_validation\n",
    "from RNNClassifier import RNNClassifier\n",
    "from RNN_SULs import Abstract_Mapper_MQTT_RNN_SUL"
   ]
  },
  {
   "cell_type": "code",
   "execution_count": 2,
   "metadata": {},
   "outputs": [],
   "source": [
    "# Generate concrete MQTT sequances use to train RNN\n",
    "train_seq, train_labels, input_al, output_al = generate_concrete_data_MQTT(num_examples=300000, num_rand_topics=2,\n",
    "                                                                               lens=(1, 2, 3, 5, 8, 10, 12),\n",
    "                                                                               uniform_concretion=True)\n",
    "\n",
    "# Split it in the training and verification sets\n",
    "x_train, y_train, x_test, y_test = split_train_validation(train_seq, train_labels, 0.8, uniform=True)"
   ]
  },
  {
   "cell_type": "code",
   "execution_count": 3,
   "metadata": {},
   "outputs": [
    {
     "output_type": "stream",
     "name": "stdout",
     "text": [
      "Starting train\n",
      "Epoch 0: Accuracy 0.69669, Avg. Loss 4.35797 Validation Accuracy 0.69815\n",
      "Epoch 1: Accuracy 0.93656, Avg. Loss 0.69118 Validation Accuracy 0.93697\n",
      "Epoch 2: Accuracy 0.9757, Avg. Loss 0.6257 Validation Accuracy 0.97628\n",
      "Epoch 3: Accuracy 0.99531, Avg. Loss 0.6318 Validation Accuracy 0.99527\n",
      "Epoch 4: Accuracy 0.99312, Avg. Loss 0.62972 Validation Accuracy 0.99303\n",
      "Epoch 5: Accuracy 1.0, Avg. Loss 0.63146 Validation Accuracy 1.0\n",
      "Epoch 6: Accuracy 1.0, Avg. Loss 0.63073 Validation Accuracy 1.0\n",
      "Epoch 7: Accuracy 1.0, Avg. Loss 0.60686 Validation Accuracy 1.0\n",
      "Done training!\n"
     ]
    }
   ],
   "source": [
    "# Create a GRU RNN with 5 layers of size 40\n",
    "rnn = RNNClassifier(input_al, output_dim=len(output_al), num_layers=5, hidden_dim=40,\n",
    "                    x_train=x_train, y_train=y_train, x_test=x_test, y_test=y_test,\n",
    "                    batch_size=32, nn_type='GRU')\n",
    "\n",
    "# Train RNN\n",
    "rnn.train(epochs=200, stop_acc=1.0, stop_epochs=3)"
   ]
  },
  {
   "cell_type": "code",
   "execution_count": 4,
   "metadata": {},
   "outputs": [
    {
     "output_type": "stream",
     "name": "stdout",
     "text": [
      "Hypothesis 1: 3 states.\n----------------------------------------------------------------------------------------------------------------------------------------\nPrefixes / E set                        |('connect',) |('disconnect',) |('subscribe',) |('unsubscribe',) |('publish',)    |('invalid',) \n----------------------------------------------------------------------------------------------------------------------------------------\n()                                      |CONNACK      |CONCLOSED       |CONCLOSED      |CONCLOSED        |CONCLOSED       |CONCLOSED    \n----------------------------------------------------------------------------------------------------------------------------------------\n('connect',)                            |CONCLOSED    |CONCLOSED       |SUBACK         |UNSUBACK         |PUBACK          |CONCLOSED    \n----------------------------------------------------------------------------------------------------------------------------------------\n('connect', 'subscribe')                |CONCLOSED    |CONCLOSED       |SUBACK         |UNSUBACK         |PUBACK__PUBLISH |CONCLOSED    \n========================================================================================================================================\n----------------------------------------------------------------------------------------------------------------------------------------\n('disconnect',)                         |CONNACK      |CONCLOSED       |CONCLOSED      |CONCLOSED        |CONCLOSED       |CONCLOSED    \n----------------------------------------------------------------------------------------------------------------------------------------\n('subscribe',)                          |CONNACK      |CONCLOSED       |CONCLOSED      |CONCLOSED        |CONCLOSED       |CONCLOSED    \n----------------------------------------------------------------------------------------------------------------------------------------\n('unsubscribe',)                        |CONNACK      |CONCLOSED       |CONCLOSED      |CONCLOSED        |CONCLOSED       |CONCLOSED    \n----------------------------------------------------------------------------------------------------------------------------------------\n('publish',)                            |CONNACK      |CONCLOSED       |CONCLOSED      |CONCLOSED        |CONCLOSED       |CONCLOSED    \n----------------------------------------------------------------------------------------------------------------------------------------\n('invalid',)                            |CONNACK      |CONCLOSED       |CONCLOSED      |CONCLOSED        |CONCLOSED       |CONCLOSED    \n----------------------------------------------------------------------------------------------------------------------------------------\n('connect', 'connect')                  |CONNACK      |CONCLOSED       |CONCLOSED      |CONCLOSED        |CONCLOSED       |CONCLOSED    \n----------------------------------------------------------------------------------------------------------------------------------------\n('connect', 'disconnect')               |CONNACK      |CONCLOSED       |CONCLOSED      |CONCLOSED        |CONCLOSED       |CONCLOSED    \n----------------------------------------------------------------------------------------------------------------------------------------\n('connect', 'unsubscribe')              |CONCLOSED    |CONCLOSED       |SUBACK         |UNSUBACK         |PUBACK          |CONCLOSED    \n----------------------------------------------------------------------------------------------------------------------------------------\n('connect', 'publish')                  |CONCLOSED    |CONCLOSED       |SUBACK         |UNSUBACK         |PUBACK          |CONCLOSED    \n----------------------------------------------------------------------------------------------------------------------------------------\n('connect', 'invalid')                  |CONNACK      |CONCLOSED       |CONCLOSED      |CONCLOSED        |CONCLOSED       |CONCLOSED    \n----------------------------------------------------------------------------------------------------------------------------------------\n('connect', 'subscribe', 'connect')     |CONNACK      |CONCLOSED       |CONCLOSED      |CONCLOSED        |CONCLOSED       |CONCLOSED    \n----------------------------------------------------------------------------------------------------------------------------------------\n('connect', 'subscribe', 'disconnect')  |CONNACK      |CONCLOSED       |CONCLOSED      |CONCLOSED        |CONCLOSED       |CONCLOSED    \n----------------------------------------------------------------------------------------------------------------------------------------\n('connect', 'subscribe', 'subscribe')   |CONCLOSED    |CONCLOSED       |SUBACK         |UNSUBACK         |PUBACK__PUBLISH |CONCLOSED    \n----------------------------------------------------------------------------------------------------------------------------------------\n('connect', 'subscribe', 'unsubscribe') |CONCLOSED    |CONCLOSED       |SUBACK         |UNSUBACK         |PUBACK          |CONCLOSED    \n----------------------------------------------------------------------------------------------------------------------------------------\n('connect', 'subscribe', 'publish')     |CONCLOSED    |CONCLOSED       |SUBACK         |UNSUBACK         |PUBACK__PUBLISH |CONCLOSED    \n----------------------------------------------------------------------------------------------------------------------------------------\n('connect', 'subscribe', 'invalid')     |CONNACK      |CONCLOSED       |CONCLOSED      |CONCLOSED        |CONCLOSED       |CONCLOSED    \n----------------------------------------------------------------------------------------------------------------------------------------\n-----------------------------------\nLearning Finished.\nLearning Rounds:  1\nNumber of states: 3\nTime (in seconds)\n  Total                : 0.15\n  Learning algorithm   : 0.02\n  Conformance checking : 0.13\nLearning Algorithm\n # Membership Queries  : 108\n # MQ Saved by Caching : 6\n # Steps               : 324\nEquivalence Query\n # Membership Queries  : 150\n # Steps               : 1650\n-----------------------------------\n"
     ]
    }
   ],
   "source": [
    "# Create the SUL that implements the Mapper component\n",
    "sul = Abstract_Mapper_MQTT_RNN_SUL(rnn, input_al, output_al)\n",
    "abstract_inputs = sul.abstract_inputs\n",
    "\n",
    "# Define the Equivalence Oracle\n",
    "eq_oracle = StatePrefixEqOracle(abstract_inputs, sul, walks_per_state=50, walk_len=10)\n",
    "\n",
    "model = run_Lstar(abstract_inputs, sul, eq_oracle, automaton_type='mealy', cache_and_non_det_check=True, print_level=3)"
   ]
  },
  {
   "cell_type": "code",
   "execution_count": 5,
   "metadata": {},
   "outputs": [
    {
     "output_type": "stream",
     "name": "stdout",
     "text": [
      "digraph learnedModel {\ns0 [label=s0];\ns1 [label=s1];\ns2 [label=s2];\ns0 -> s1  [label=\"connect/CONNACK\"];\ns0 -> s0  [label=\"disconnect/CONCLOSED\"];\ns0 -> s0  [label=\"subscribe/CONCLOSED\"];\ns0 -> s0  [label=\"unsubscribe/CONCLOSED\"];\ns0 -> s0  [label=\"publish/CONCLOSED\"];\ns0 -> s0  [label=\"invalid/CONCLOSED\"];\ns1 -> s0  [label=\"connect/CONCLOSED\"];\ns1 -> s0  [label=\"disconnect/CONCLOSED\"];\ns1 -> s2  [label=\"subscribe/SUBACK\"];\ns1 -> s1  [label=\"unsubscribe/UNSUBACK\"];\ns1 -> s1  [label=\"publish/PUBACK\"];\ns1 -> s0  [label=\"invalid/CONCLOSED\"];\ns2 -> s0  [label=\"connect/CONCLOSED\"];\ns2 -> s0  [label=\"disconnect/CONCLOSED\"];\ns2 -> s2  [label=\"subscribe/SUBACK\"];\ns2 -> s1  [label=\"unsubscribe/UNSUBACK\"];\ns2 -> s2  [label=\"publish/PUBACK__PUBLISH\"];\ns2 -> s0  [label=\"invalid/CONCLOSED\"];\n__start0 [label=\"\", shape=none];\n__start0 -> s0  [label=\"\"];\n}\n\n"
     ]
    }
   ],
   "source": [
    "print(model)"
   ]
  },
  {
   "cell_type": "code",
   "execution_count": null,
   "metadata": {},
   "outputs": [],
   "source": []
  }
 ]
}