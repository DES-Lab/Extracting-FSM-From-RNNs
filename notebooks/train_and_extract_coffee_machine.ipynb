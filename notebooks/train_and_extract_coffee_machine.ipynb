{
 "metadata": {
  "language_info": {
   "codemirror_mode": {
    "name": "ipython",
    "version": 3
   },
   "file_extension": ".py",
   "mimetype": "text/x-python",
   "name": "python",
   "nbconvert_exporter": "python",
   "pygments_lexer": "ipython3",
   "version": "3.6.8"
  },
  "orig_nbformat": 2,
  "kernelspec": {
   "name": "python368jvsc74a57bd02ab5e152fcf54322d6bbdd14ee60841ff95c5546cc9d5585d8c09cbd67c517cd",
   "display_name": "Python 3.6.8 64-bit ('venv')"
  }
 },
 "nbformat": 4,
 "nbformat_minor": 2,
 "cells": [
  {
   "cell_type": "code",
   "execution_count": 1,
   "metadata": {},
   "outputs": [],
   "source": [
    "# Imports\n",
    "from aalpy.learning_algs import run_Lstar\n",
    "from aalpy.oracles import StatePrefixEqOracle\n",
    "\n",
    "from DataProcessing import get_coffee_machine, generate_data_from_automaton, split_train_validation, tokenized_dict\n",
    "from RNNClassifier import RNNClassifier\n",
    "from RNN_SULs import RnnMealySUL"
   ]
  },
  {
   "cell_type": "code",
   "execution_count": 2,
   "metadata": {},
   "outputs": [],
   "source": [
    "# Get the model of the coffee machine\n",
    "\n",
    "coffee_machine = get_coffee_machine()\n",
    "\n",
    "# Get input and output alphbatet and do one-hot enconding over the output alphabet\n",
    "input_al = coffee_machine.get_input_alphabet()\n",
    "output_al = {output for state in coffee_machine.states for output in state.output_fun.values()}\n",
    "outputs_2_ints = {integer: output for output, integer in tokenized_dict(output_al).items()}\n"
   ]
  },
  {
   "cell_type": "code",
   "execution_count": 3,
   "metadata": {},
   "outputs": [],
   "source": [
    "# Create training data\n",
    "train_seq, train_labels = generate_data_from_automaton(coffee_machine, input_al,\n",
    "                                                       num_examples=15000, lens=(1,2,3,5,8,12,15))\n",
    "\n",
    "# Split it into training and verificaiton datasets\n",
    "x_train, y_train, x_test, y_test = split_train_validation(train_seq, train_labels, 0.8, uniform=True)\n"
   ]
  },
  {
   "cell_type": "code",
   "execution_count": 4,
   "metadata": {},
   "outputs": [
    {
     "output_type": "stream",
     "name": "stdout",
     "text": [
      "Starting train\n",
      "Epoch 0: Accuracy 0.97617, Avg. Loss 6.01565 Validation Accuracy 0.97934\n",
      "Epoch 1: Accuracy 0.97809, Avg. Loss 2.4939 Validation Accuracy 0.98201\n",
      "Epoch 2: Accuracy 0.99225, Avg. Loss 1.42906 Validation Accuracy 0.99367\n",
      "Epoch 3: Accuracy 0.99583, Avg. Loss 0.60914 Validation Accuracy 0.99667\n",
      "Epoch 4: Accuracy 0.99917, Avg. Loss 0.258 Validation Accuracy 0.99967\n",
      "Epoch 5: Accuracy 0.99983, Avg. Loss 0.07625 Validation Accuracy 0.99967\n",
      "Epoch 6: Accuracy 0.99992, Avg. Loss 0.0386 Validation Accuracy 0.99967\n",
      "Epoch 7: Accuracy 0.99983, Avg. Loss 0.03375 Validation Accuracy 1.0\n",
      "Epoch 8: Accuracy 1.0, Avg. Loss 0.02833 Validation Accuracy 0.99967\n",
      "Epoch 9: Accuracy 0.99675, Avg. Loss 0.11456 Validation Accuracy 0.99767\n",
      "Epoch 10: Accuracy 0.99983, Avg. Loss 0.01049 Validation Accuracy 1.0\n",
      "Epoch 11: Accuracy 0.99967, Avg. Loss 0.23278 Validation Accuracy 0.99967\n",
      "Epoch 12: Accuracy 1.0, Avg. Loss 0.00494 Validation Accuracy 1.0\n",
      "Epoch 13: Accuracy 1.0, Avg. Loss 0.00378 Validation Accuracy 1.0\n",
      "Epoch 14: Accuracy 1.0, Avg. Loss 0.00324 Validation Accuracy 1.0\n",
      "Done training!\n"
     ]
    }
   ],
   "source": [
    "# Create a RNN. It has 2 hidden layers with 50 nodes and it is GRU network.\n",
    "rnn = RNNClassifier(input_al, output_dim=len(output_al), num_layers=2, hidden_dim=50,\n",
    "                    x_train=x_train, y_train=y_train, x_test=x_test, y_test=y_test,\n",
    "                    batch_size=32, nn_type='GRU')\n",
    "\n",
    "# Train it until 100% accuracy is achieved\n",
    "rnn.train(epochs=250, stop_acc=1.0, stop_epochs=3)"
   ]
  },
  {
   "source": [
    "# Use RNN as system under learning\n",
    "sul = RnnMealySUL(rnn, outputs_2_ints)\n",
    "\n",
    "# Define the eq. oracle\n",
    "eq_oracle = StatePrefixEqOracle(input_al, sul, walks_per_state=150, walk_len=25)\n",
    "\n",
    "# Run the learning algorithm\n",
    "learned_automaton = run_Lstar(alphabet=input_al, sul=sul, eq_oracle=eq_oracle, automaton_type='mealy',\n",
    "                              cache_and_non_det_check=False, max_learning_rounds=10,\n",
    "                              suffix_closedness=False, print_level=2)"
   ],
   "cell_type": "code",
   "metadata": {},
   "execution_count": 5,
   "outputs": [
    {
     "output_type": "stream",
     "name": "stdout",
     "text": [
      "Hypothesis 1: 2 states.\n",
      "Hypothesis 2: 5 states.\n",
      "Hypothesis 3: 6 states.\n",
      "-----------------------------------\n",
      "Learning Finished.\n",
      "Learning Rounds:  3\n",
      "Number of states: 6\n",
      "Time (in seconds)\n",
      "  Total                : 0.91\n",
      "  Learning algorithm   : 0.02\n",
      "  Conformance checking : 0.89\n",
      "Learning Algorithm\n",
      " # Membership Queries  : 154\n",
      " # Steps               : 546\n",
      "Equivalence Query\n",
      " # Membership Queries  : 900\n",
      " # Steps               : 23656\n",
      "-----------------------------------\n"
     ]
    }
   ]
  },
  {
   "cell_type": "code",
   "execution_count": 6,
   "metadata": {},
   "outputs": [
    {
     "output_type": "stream",
     "name": "stdout",
     "text": [
      "digraph learnedModel {\ns0 [label=s0];\ns1 [label=s1];\ns2 [label=s2];\ns3 [label=s3];\ns4 [label=s4];\ns5 [label=s5];\ns0 -> s0  [label=\"clean/check\"];\ns0 -> s5  [label=\"pod/check\"];\ns0 -> s2  [label=\"water/check\"];\ns0 -> s1  [label=\"button/star\"];\ns1 -> s1  [label=\"clean/star\"];\ns1 -> s1  [label=\"pod/star\"];\ns1 -> s1  [label=\"water/star\"];\ns1 -> s1  [label=\"button/star\"];\ns2 -> s0  [label=\"clean/check\"];\ns2 -> s3  [label=\"pod/check\"];\ns2 -> s2  [label=\"water/check\"];\ns2 -> s1  [label=\"button/star\"];\ns3 -> s0  [label=\"clean/check\"];\ns3 -> s3  [label=\"pod/check\"];\ns3 -> s3  [label=\"water/check\"];\ns3 -> s4  [label=\"button/coffee\"];\ns4 -> s0  [label=\"clean/check\"];\ns4 -> s1  [label=\"pod/coffee\"];\ns4 -> s1  [label=\"water/coffee\"];\ns4 -> s1  [label=\"button/coffee\"];\ns5 -> s0  [label=\"clean/check\"];\ns5 -> s5  [label=\"pod/check\"];\ns5 -> s3  [label=\"water/check\"];\ns5 -> s1  [label=\"button/star\"];\n__start0 [label=\"\", shape=none];\n__start0 -> s0  [label=\"\"];\n}\n\n"
     ]
    }
   ],
   "source": [
    "# Print the learned model\n",
    "print(learned_automaton)"
   ]
  },
  {
   "cell_type": "code",
   "execution_count": null,
   "metadata": {},
   "outputs": [],
   "source": []
  }
 ]
}